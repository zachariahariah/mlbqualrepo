{
 "cells": [
  {
   "cell_type": "code",
   "execution_count": 2,
   "id": "da607c57-c70f-43af-b599-af6ce16f0679",
   "metadata": {
    "tags": []
   },
   "outputs": [
    {
     "name": "stdout",
     "output_type": "stream",
     "text": [
      "Requirement already satisfied: MLB-StatsAPI in /opt/conda/lib/python3.10/site-packages (1.9.0)\n",
      "Requirement already satisfied: requests in /opt/conda/lib/python3.10/site-packages (from MLB-StatsAPI) (2.32.4)\n",
      "Requirement already satisfied: charset_normalizer<4,>=2 in /opt/conda/lib/python3.10/site-packages (from requests->MLB-StatsAPI) (3.4.2)\n",
      "Requirement already satisfied: idna<4,>=2.5 in /opt/conda/lib/python3.10/site-packages (from requests->MLB-StatsAPI) (3.10)\n",
      "Requirement already satisfied: urllib3<3,>=1.21.1 in /opt/conda/lib/python3.10/site-packages (from requests->MLB-StatsAPI) (1.26.20)\n",
      "Requirement already satisfied: certifi>=2017.4.17 in /opt/conda/lib/python3.10/site-packages (from requests->MLB-StatsAPI) (2025.7.14)\n",
      "Note: you may need to restart the kernel to use updated packages.\n"
     ]
    }
   ],
   "source": [
    "pip install MLB-StatsAPI"
   ]
  },
  {
   "cell_type": "code",
   "execution_count": 3,
   "id": "709bd62a-2e99-49f0-8107-bae540990a73",
   "metadata": {
    "tags": []
   },
   "outputs": [
    {
     "name": "stdout",
     "output_type": "stream",
     "text": [
      "Found 1652 games.\n"
     ]
    }
   ],
   "source": [
    "import statsapi\n",
    "\n",
    "# Get all regular season games from March 28 to today\n",
    "game_list = statsapi.schedule(start_date='2025-03-28', end_date='2025-07-31', sportId=1)\n",
    "\n",
    "# Extract game IDs\n",
    "game_pks = [game['game_id'] for game in game_list]\n",
    "print(f\"Found {len(game_pks)} games.\")"
   ]
  },
  {
   "cell_type": "code",
   "execution_count": 4,
   "id": "4e870515-1249-40b1-8d9c-fe3c9e51f827",
   "metadata": {
    "tags": []
   },
   "outputs": [
    {
     "name": "stdout",
     "output_type": "stream",
     "text": [
      "Requirement already satisfied: tqdm in /opt/conda/lib/python3.10/site-packages (4.67.1)\n",
      "Note: you may need to restart the kernel to use updated packages.\n"
     ]
    }
   ],
   "source": [
    "pip install tqdm\n"
   ]
  },
  {
   "cell_type": "code",
   "execution_count": 5,
   "id": "2ee5241d-11b8-4612-b010-eaf7789a0274",
   "metadata": {
    "tags": []
   },
   "outputs": [
    {
     "name": "stdout",
     "output_type": "stream",
     "text": [
      "Requirement already satisfied: tqdm in /opt/conda/lib/python3.10/site-packages (4.67.1)\n",
      "Requirement already satisfied: notebook in /opt/conda/lib/python3.10/site-packages (6.5.7)\n",
      "Requirement already satisfied: jinja2 in /opt/conda/lib/python3.10/site-packages (from notebook) (3.1.6)\n",
      "Requirement already satisfied: tornado>=6.1 in /opt/conda/lib/python3.10/site-packages (from notebook) (6.5.1)\n",
      "Requirement already satisfied: pyzmq>=17 in /opt/conda/lib/python3.10/site-packages (from notebook) (27.0.0)\n",
      "Requirement already satisfied: argon2-cffi in /opt/conda/lib/python3.10/site-packages (from notebook) (25.1.0)\n",
      "Requirement already satisfied: traitlets>=4.2.1 in /opt/conda/lib/python3.10/site-packages (from notebook) (5.14.3)\n",
      "Requirement already satisfied: jupyter-core>=4.6.1 in /opt/conda/lib/python3.10/site-packages (from notebook) (5.8.1)\n",
      "Requirement already satisfied: jupyter-client<8,>=5.3.4 in /opt/conda/lib/python3.10/site-packages (from notebook) (7.4.9)\n",
      "Requirement already satisfied: ipython-genutils in /opt/conda/lib/python3.10/site-packages (from notebook) (0.2.0)\n",
      "Requirement already satisfied: nbformat in /opt/conda/lib/python3.10/site-packages (from notebook) (5.10.4)\n",
      "Requirement already satisfied: nbconvert>=5 in /opt/conda/lib/python3.10/site-packages (from notebook) (7.16.6)\n",
      "Requirement already satisfied: nest-asyncio>=1.5 in /opt/conda/lib/python3.10/site-packages (from notebook) (1.6.0)\n",
      "Requirement already satisfied: ipykernel in /opt/conda/lib/python3.10/site-packages (from notebook) (6.29.5)\n",
      "Requirement already satisfied: Send2Trash>=1.8.0 in /opt/conda/lib/python3.10/site-packages (from notebook) (1.8.3)\n",
      "Requirement already satisfied: terminado>=0.8.3 in /opt/conda/lib/python3.10/site-packages (from notebook) (0.18.1)\n",
      "Requirement already satisfied: prometheus-client in /opt/conda/lib/python3.10/site-packages (from notebook) (0.22.1)\n",
      "Requirement already satisfied: nbclassic>=0.4.7 in /opt/conda/lib/python3.10/site-packages (from notebook) (1.3.1)\n",
      "Requirement already satisfied: entrypoints in /opt/conda/lib/python3.10/site-packages (from jupyter-client<8,>=5.3.4->notebook) (0.4)\n",
      "Requirement already satisfied: python-dateutil>=2.8.2 in /opt/conda/lib/python3.10/site-packages (from jupyter-client<8,>=5.3.4->notebook) (2.9.0.post0)\n",
      "Requirement already satisfied: platformdirs>=2.5 in /opt/conda/lib/python3.10/site-packages (from jupyter-core>=4.6.1->notebook) (4.3.8)\n",
      "Requirement already satisfied: notebook-shim>=0.2.3 in /opt/conda/lib/python3.10/site-packages (from nbclassic>=0.4.7->notebook) (0.2.4)\n",
      "Requirement already satisfied: beautifulsoup4 in /opt/conda/lib/python3.10/site-packages (from nbconvert>=5->notebook) (4.13.4)\n",
      "Requirement already satisfied: bleach!=5.0.0 in /opt/conda/lib/python3.10/site-packages (from bleach[css]!=5.0.0->nbconvert>=5->notebook) (6.2.0)\n",
      "Requirement already satisfied: defusedxml in /opt/conda/lib/python3.10/site-packages (from nbconvert>=5->notebook) (0.7.1)\n",
      "Requirement already satisfied: jupyterlab-pygments in /opt/conda/lib/python3.10/site-packages (from nbconvert>=5->notebook) (0.3.0)\n",
      "Requirement already satisfied: markupsafe>=2.0 in /opt/conda/lib/python3.10/site-packages (from nbconvert>=5->notebook) (3.0.2)\n",
      "Requirement already satisfied: mistune<4,>=2.0.3 in /opt/conda/lib/python3.10/site-packages (from nbconvert>=5->notebook) (3.1.3)\n",
      "Requirement already satisfied: nbclient>=0.5.0 in /opt/conda/lib/python3.10/site-packages (from nbconvert>=5->notebook) (0.10.2)\n",
      "Requirement already satisfied: packaging in /opt/conda/lib/python3.10/site-packages (from nbconvert>=5->notebook) (25.0)\n",
      "Requirement already satisfied: pandocfilters>=1.4.1 in /opt/conda/lib/python3.10/site-packages (from nbconvert>=5->notebook) (1.5.1)\n",
      "Requirement already satisfied: pygments>=2.4.1 in /opt/conda/lib/python3.10/site-packages (from nbconvert>=5->notebook) (2.19.2)\n",
      "Requirement already satisfied: typing-extensions in /opt/conda/lib/python3.10/site-packages (from mistune<4,>=2.0.3->nbconvert>=5->notebook) (4.14.1)\n",
      "Requirement already satisfied: webencodings in /opt/conda/lib/python3.10/site-packages (from bleach!=5.0.0->bleach[css]!=5.0.0->nbconvert>=5->notebook) (0.5.1)\n",
      "Requirement already satisfied: tinycss2<1.5,>=1.1.0 in /opt/conda/lib/python3.10/site-packages (from bleach[css]!=5.0.0->nbconvert>=5->notebook) (1.4.0)\n",
      "Requirement already satisfied: fastjsonschema>=2.15 in /opt/conda/lib/python3.10/site-packages (from nbformat->notebook) (2.21.1)\n",
      "Requirement already satisfied: jsonschema>=2.6 in /opt/conda/lib/python3.10/site-packages (from nbformat->notebook) (4.24.0)\n",
      "Requirement already satisfied: attrs>=22.2.0 in /opt/conda/lib/python3.10/site-packages (from jsonschema>=2.6->nbformat->notebook) (25.3.0)\n",
      "Requirement already satisfied: jsonschema-specifications>=2023.03.6 in /opt/conda/lib/python3.10/site-packages (from jsonschema>=2.6->nbformat->notebook) (2025.4.1)\n",
      "Requirement already satisfied: referencing>=0.28.4 in /opt/conda/lib/python3.10/site-packages (from jsonschema>=2.6->nbformat->notebook) (0.36.2)\n",
      "Requirement already satisfied: rpds-py>=0.7.1 in /opt/conda/lib/python3.10/site-packages (from jsonschema>=2.6->nbformat->notebook) (0.26.0)\n",
      "Requirement already satisfied: jupyter-server<3,>=1.8 in /opt/conda/lib/python3.10/site-packages (from notebook-shim>=0.2.3->nbclassic>=0.4.7->notebook) (2.16.0)\n",
      "Requirement already satisfied: anyio>=3.1.0 in /opt/conda/lib/python3.10/site-packages (from jupyter-server<3,>=1.8->notebook-shim>=0.2.3->nbclassic>=0.4.7->notebook) (4.9.0)\n",
      "Requirement already satisfied: jupyter-events>=0.11.0 in /opt/conda/lib/python3.10/site-packages (from jupyter-server<3,>=1.8->notebook-shim>=0.2.3->nbclassic>=0.4.7->notebook) (0.12.0)\n",
      "Requirement already satisfied: jupyter-server-terminals>=0.4.4 in /opt/conda/lib/python3.10/site-packages (from jupyter-server<3,>=1.8->notebook-shim>=0.2.3->nbclassic>=0.4.7->notebook) (0.5.3)\n",
      "Requirement already satisfied: overrides>=5.0 in /opt/conda/lib/python3.10/site-packages (from jupyter-server<3,>=1.8->notebook-shim>=0.2.3->nbclassic>=0.4.7->notebook) (7.7.0)\n",
      "Requirement already satisfied: websocket-client>=1.7 in /opt/conda/lib/python3.10/site-packages (from jupyter-server<3,>=1.8->notebook-shim>=0.2.3->nbclassic>=0.4.7->notebook) (1.8.0)\n",
      "Requirement already satisfied: exceptiongroup>=1.0.2 in /opt/conda/lib/python3.10/site-packages (from anyio>=3.1.0->jupyter-server<3,>=1.8->notebook-shim>=0.2.3->nbclassic>=0.4.7->notebook) (1.3.0)\n",
      "Requirement already satisfied: idna>=2.8 in /opt/conda/lib/python3.10/site-packages (from anyio>=3.1.0->jupyter-server<3,>=1.8->notebook-shim>=0.2.3->nbclassic>=0.4.7->notebook) (3.10)\n",
      "Requirement already satisfied: sniffio>=1.1 in /opt/conda/lib/python3.10/site-packages (from anyio>=3.1.0->jupyter-server<3,>=1.8->notebook-shim>=0.2.3->nbclassic>=0.4.7->notebook) (1.3.1)\n",
      "Requirement already satisfied: argon2-cffi-bindings in /opt/conda/lib/python3.10/site-packages (from argon2-cffi->notebook) (21.2.0)\n",
      "Requirement already satisfied: python-json-logger>=2.0.4 in /opt/conda/lib/python3.10/site-packages (from jupyter-events>=0.11.0->jupyter-server<3,>=1.8->notebook-shim>=0.2.3->nbclassic>=0.4.7->notebook) (3.3.0)\n",
      "Requirement already satisfied: pyyaml>=5.3 in /opt/conda/lib/python3.10/site-packages (from jupyter-events>=0.11.0->jupyter-server<3,>=1.8->notebook-shim>=0.2.3->nbclassic>=0.4.7->notebook) (6.0.2)\n",
      "Requirement already satisfied: rfc3339-validator in /opt/conda/lib/python3.10/site-packages (from jupyter-events>=0.11.0->jupyter-server<3,>=1.8->notebook-shim>=0.2.3->nbclassic>=0.4.7->notebook) (0.1.4)\n",
      "Requirement already satisfied: rfc3986-validator>=0.1.1 in /opt/conda/lib/python3.10/site-packages (from jupyter-events>=0.11.0->jupyter-server<3,>=1.8->notebook-shim>=0.2.3->nbclassic>=0.4.7->notebook) (0.1.1)\n",
      "Requirement already satisfied: fqdn in /opt/conda/lib/python3.10/site-packages (from jsonschema[format-nongpl]>=4.18.0->jupyter-events>=0.11.0->jupyter-server<3,>=1.8->notebook-shim>=0.2.3->nbclassic>=0.4.7->notebook) (1.5.1)\n",
      "Requirement already satisfied: isoduration in /opt/conda/lib/python3.10/site-packages (from jsonschema[format-nongpl]>=4.18.0->jupyter-events>=0.11.0->jupyter-server<3,>=1.8->notebook-shim>=0.2.3->nbclassic>=0.4.7->notebook) (20.11.0)\n",
      "Requirement already satisfied: jsonpointer>1.13 in /opt/conda/lib/python3.10/site-packages (from jsonschema[format-nongpl]>=4.18.0->jupyter-events>=0.11.0->jupyter-server<3,>=1.8->notebook-shim>=0.2.3->nbclassic>=0.4.7->notebook) (3.0.0)\n",
      "Requirement already satisfied: uri-template in /opt/conda/lib/python3.10/site-packages (from jsonschema[format-nongpl]>=4.18.0->jupyter-events>=0.11.0->jupyter-server<3,>=1.8->notebook-shim>=0.2.3->nbclassic>=0.4.7->notebook) (1.3.0)\n",
      "Requirement already satisfied: webcolors>=24.6.0 in /opt/conda/lib/python3.10/site-packages (from jsonschema[format-nongpl]>=4.18.0->jupyter-events>=0.11.0->jupyter-server<3,>=1.8->notebook-shim>=0.2.3->nbclassic>=0.4.7->notebook) (24.11.1)\n",
      "Requirement already satisfied: six>=1.5 in /opt/conda/lib/python3.10/site-packages (from python-dateutil>=2.8.2->jupyter-client<8,>=5.3.4->notebook) (1.17.0)\n",
      "Requirement already satisfied: ptyprocess in /opt/conda/lib/python3.10/site-packages (from terminado>=0.8.3->notebook) (0.7.0)\n",
      "Requirement already satisfied: cffi>=1.0.1 in /opt/conda/lib/python3.10/site-packages (from argon2-cffi-bindings->argon2-cffi->notebook) (1.17.1)\n",
      "Requirement already satisfied: pycparser in /opt/conda/lib/python3.10/site-packages (from cffi>=1.0.1->argon2-cffi-bindings->argon2-cffi->notebook) (2.22)\n",
      "Requirement already satisfied: soupsieve>1.2 in /opt/conda/lib/python3.10/site-packages (from beautifulsoup4->nbconvert>=5->notebook) (2.7)\n",
      "Requirement already satisfied: comm>=0.1.1 in /opt/conda/lib/python3.10/site-packages (from ipykernel->notebook) (0.2.2)\n",
      "Requirement already satisfied: debugpy>=1.6.5 in /opt/conda/lib/python3.10/site-packages (from ipykernel->notebook) (1.8.15)\n",
      "Requirement already satisfied: ipython>=7.23.1 in /opt/conda/lib/python3.10/site-packages (from ipykernel->notebook) (8.21.0)\n",
      "Requirement already satisfied: matplotlib-inline>=0.1 in /opt/conda/lib/python3.10/site-packages (from ipykernel->notebook) (0.1.7)\n",
      "Requirement already satisfied: psutil in /opt/conda/lib/python3.10/site-packages (from ipykernel->notebook) (5.9.3)\n",
      "Requirement already satisfied: decorator in /opt/conda/lib/python3.10/site-packages (from ipython>=7.23.1->ipykernel->notebook) (5.2.1)\n",
      "Requirement already satisfied: jedi>=0.16 in /opt/conda/lib/python3.10/site-packages (from ipython>=7.23.1->ipykernel->notebook) (0.19.2)\n",
      "Requirement already satisfied: prompt-toolkit<3.1.0,>=3.0.41 in /opt/conda/lib/python3.10/site-packages (from ipython>=7.23.1->ipykernel->notebook) (3.0.51)\n",
      "Requirement already satisfied: stack-data in /opt/conda/lib/python3.10/site-packages (from ipython>=7.23.1->ipykernel->notebook) (0.6.3)\n",
      "Requirement already satisfied: pexpect>4.3 in /opt/conda/lib/python3.10/site-packages (from ipython>=7.23.1->ipykernel->notebook) (4.9.0)\n",
      "Requirement already satisfied: wcwidth in /opt/conda/lib/python3.10/site-packages (from prompt-toolkit<3.1.0,>=3.0.41->ipython>=7.23.1->ipykernel->notebook) (0.2.13)\n",
      "Requirement already satisfied: parso<0.9.0,>=0.8.4 in /opt/conda/lib/python3.10/site-packages (from jedi>=0.16->ipython>=7.23.1->ipykernel->notebook) (0.8.4)\n",
      "Requirement already satisfied: arrow>=0.15.0 in /opt/conda/lib/python3.10/site-packages (from isoduration->jsonschema[format-nongpl]>=4.18.0->jupyter-events>=0.11.0->jupyter-server<3,>=1.8->notebook-shim>=0.2.3->nbclassic>=0.4.7->notebook) (1.3.0)\n",
      "Requirement already satisfied: types-python-dateutil>=2.8.10 in /opt/conda/lib/python3.10/site-packages (from arrow>=0.15.0->isoduration->jsonschema[format-nongpl]>=4.18.0->jupyter-events>=0.11.0->jupyter-server<3,>=1.8->notebook-shim>=0.2.3->nbclassic>=0.4.7->notebook) (2.9.0.20250708)\n",
      "Requirement already satisfied: executing>=1.2.0 in /opt/conda/lib/python3.10/site-packages (from stack-data->ipython>=7.23.1->ipykernel->notebook) (2.2.0)\n",
      "Requirement already satisfied: asttokens>=2.1.0 in /opt/conda/lib/python3.10/site-packages (from stack-data->ipython>=7.23.1->ipykernel->notebook) (3.0.0)\n",
      "Requirement already satisfied: pure-eval in /opt/conda/lib/python3.10/site-packages (from stack-data->ipython>=7.23.1->ipykernel->notebook) (0.2.3)\n",
      "Note: you may need to restart the kernel to use updated packages.\n"
     ]
    }
   ],
   "source": [
    "pip install tqdm notebook"
   ]
  },
  {
   "cell_type": "code",
   "execution_count": 6,
   "id": "0cecae58-62fb-4b4f-a146-3ec45f14ce92",
   "metadata": {
    "tags": []
   },
   "outputs": [],
   "source": [
    "from tqdm.notebook import tqdm"
   ]
  },
  {
   "cell_type": "code",
   "execution_count": 6,
   "id": "712ab5e0-f348-45d6-a666-0cad81f1855c",
   "metadata": {
    "tags": []
   },
   "outputs": [
    {
     "name": "stdout",
     "output_type": "stream",
     "text": [
      "Number of games found: 1652\n"
     ]
    }
   ],
   "source": [
    "print(f\"Number of games found: {len(game_pks)}\")"
   ]
  },
  {
   "cell_type": "code",
   "execution_count": null,
   "id": "5887362d-16af-4dfb-b347-27ca2ce080a4",
   "metadata": {
    "tags": []
   },
   "outputs": [],
   "source": [
    "all_plays = []\n",
    "\n",
    "for gamePk in game_pks:\n",
    "    try:\n",
    "        data = statsapi.get('game_playByPlay', {'gamePk': gamePk})\n",
    "        plays = data.get('allPlays', [])\n",
    "        all_plays.extend(plays)\n",
    "    except Exception as e:\n",
    "        print(f\"Error fetching gamePk {gamePk}: {e}\")"
   ]
  },
  {
   "cell_type": "code",
   "execution_count": 78,
   "id": "5b26859a-55e7-4988-b281-55f77434c4e1",
   "metadata": {
    "tags": []
   },
   "outputs": [],
   "source": [
    "#result table\n",
    "def extract_result(play, event):\n",
    "    return {\n",
    "        'playId': event['playId'],\n",
    "        'startTime': event['startTime'],\n",
    "        'endTime': event['endTime'],\n",
    "        'type': play['result'].get('type'),\n",
    "        'event': play['result'].get('event'),\n",
    "        'eventType': play['result'].get('eventType'),\n",
    "        'description': play['result'].get('description'),\n",
    "        'awayScore': play['result'].get('awayScore'),\n",
    "        'homeScore': play['result'].get('homeScore'),\n",
    "        'isOut': play['result'].get('isOut')\n",
    "    }"
   ]
  },
  {
   "cell_type": "code",
   "execution_count": 79,
   "id": "a74203e9-5467-4bd3-8792-af16913eb706",
   "metadata": {
    "tags": []
   },
   "outputs": [],
   "source": [
    "#about table\n",
    "def extract_about(play, event):\n",
    "    about = play['about']\n",
    "    return {\n",
    "        'playId': event['playId'],\n",
    "        'startTime': event['startTime'],\n",
    "        'endTime': event['endTime'],\n",
    "        'atBatIndex': about.get('atBatIndex'),\n",
    "        'halfInning': about.get('halfInning'),\n",
    "        'isTopInning': about.get('isTopInning'),\n",
    "        'inning': about.get('inning'),\n",
    "        'isComplete': about.get('isComplete'),\n",
    "        'isScoringPlay': about.get('isScoringPlay'),\n",
    "        'hasOut': about.get('hasOut')\n",
    "    }"
   ]
  },
  {
   "cell_type": "code",
   "execution_count": 80,
   "id": "77c1f1ea-7fac-4eeb-8e53-812db338e8cf",
   "metadata": {
    "tags": []
   },
   "outputs": [],
   "source": [
    "#count table\n",
    "def extract_count(play, event):\n",
    "    count = play['count']\n",
    "    return {\n",
    "        'playId': event['playId'],\n",
    "        'startTime': event['startTime'],\n",
    "        'endTime': event['endTime'],\n",
    "        'balls': count.get('balls'),\n",
    "        'strikes': count.get('strikes'),\n",
    "        'outs': count.get('outs')\n",
    "    }"
   ]
  },
  {
   "cell_type": "code",
   "execution_count": 81,
   "id": "ece8a54a-aab8-4774-b522-70d3c2a6e07f",
   "metadata": {
    "tags": []
   },
   "outputs": [],
   "source": [
    "#matchup table\n",
    "def extract_matchup(play, event):\n",
    "    matchup = play['matchup']\n",
    "    return {\n",
    "        'playId': event['playId'],\n",
    "        'startTime': event['startTime'],\n",
    "        'endTime': event['endTime'],\n",
    "        'batterId': matchup['batter'].get('id'),\n",
    "        'batterName': matchup['batter'].get('fullName'),\n",
    "        'batSide': matchup['batSide'].get('code'),\n",
    "        'pitcherId': matchup['pitcher'].get('id'),\n",
    "        'pitcherName': matchup['pitcher'].get('fullName'),\n",
    "        'pitchHand': matchup['pitchHand'].get('code'),\n",
    "        'menOnBase': matchup['splits'].get('menOnBase'),\n",
    "        'responsiblePitcher': None,  # not in matchup, might be in runner details\n",
    "        'isScoringEvent': play['result'].get('isOut'),  # proxy\n",
    "        'rbi': play['result'].get('rbi'),\n",
    "        'earned': None  # not in matchup\n",
    "    }"
   ]
  },
  {
   "cell_type": "code",
   "execution_count": 82,
   "id": "1d201cce-6a55-4fa3-94cf-181bcd45b017",
   "metadata": {
    "tags": []
   },
   "outputs": [],
   "source": [
    "#pitchdetail table\n",
    "def extract_pitch_detail(event):\n",
    "    pd = event.get('pitchData', {})\n",
    "    coords = pd.get('coordinates', {})\n",
    "    breaks = pd.get('breaks', {})\n",
    "    return {\n",
    "        'playId': event['playId'],\n",
    "        'startTime': event['startTime'],\n",
    "        'endTime': event['endTime'],\n",
    "        'isInPlay': event['details'].get('isInPlay'),\n",
    "        'isStrike': event['details'].get('isStrike'),\n",
    "        'isBall': event['details'].get('isBall'),\n",
    "        'code': event['details'].get('code'),\n",
    "        'description': event['details'].get('description'),\n",
    "        'isOut': event['details'].get('isOut'),\n",
    "        'startSpeed': pd.get('startSpeed'),\n",
    "        'strikeZoneTop': pd.get('strikeZoneTop'),\n",
    "        'strikeZoneBottom': pd.get('strikeZoneBottom'),\n",
    "        'aY': coords.get('aY'),\n",
    "        'aZ': coords.get('aZ'),\n",
    "        'pfxX': coords.get('pfxX'),\n",
    "        'pfxZ': coords.get('pfxZ'),\n",
    "        'pX': coords.get('pX'),\n",
    "        'pZ': coords.get('pZ'),\n",
    "        'vX0': coords.get('vX0'),\n",
    "        'vY0': coords.get('vY0'),\n",
    "        'vZ0': coords.get('vZ0'),\n",
    "        'x': coords.get('x'),\n",
    "        'y': coords.get('y'),\n",
    "        'x0': coords.get('x0'),\n",
    "        'y0': coords.get('y0'),\n",
    "        'z0': coords.get('z0'),\n",
    "        'aX': coords.get('aX'),\n",
    "        'breakAngle': breaks.get('breakAngle'),\n",
    "        'breakLength': breaks.get('breakLength'),\n",
    "        'breakY': breaks.get('breakY'),\n",
    "        'breakVertical': breaks.get('breakVertical'),\n",
    "        'breakHorizontal': breaks.get('breakHorizontal'),\n",
    "        'spinRate': breaks.get('spinRate'),\n",
    "        'spinDirection': breaks.get('spinDirection'),\n",
    "        'zone': pd.get('zone'),\n",
    "        'pitchNumber': event.get('pitchNumber'),\n",
    "        'isPitch': event.get('isPitch'),\n",
    "        'type': event.get('type')\n",
    "    }"
   ]
  },
  {
   "cell_type": "code",
   "execution_count": 83,
   "id": "63a6d2c9-e5bc-441c-8c76-af69cff6429b",
   "metadata": {
    "tags": []
   },
   "outputs": [],
   "source": [
    "#DetailsCall table\n",
    "def extract_details_call(event):\n",
    "    return {\n",
    "        'playId': event['playId'],\n",
    "        'startTime': event['startTime'],\n",
    "        'endTime': event['endTime'],\n",
    "        'description': event['details'].get('description')\n",
    "    }"
   ]
  },
  {
   "cell_type": "code",
   "execution_count": 84,
   "id": "84439d51-3976-40ab-83d4-3dca458fded7",
   "metadata": {
    "tags": []
   },
   "outputs": [],
   "source": [
    "#hit data table\n",
    "def extract_hit_data(event):\n",
    "    hd = event.get('hitData', {})\n",
    "    coords = hd.get('coordinates', {})\n",
    "    return {\n",
    "        'playId': event['playId'],\n",
    "        'startTime': event['startTime'],\n",
    "        'endTime': event['endTime'],\n",
    "        'launchSpeed': hd.get('launchSpeed'),\n",
    "        'launchAngle': hd.get('launchAngle'),\n",
    "        'totalDistance': hd.get('totalDistance'),\n",
    "        'trajectory': hd.get('trajectory'),\n",
    "        'hardness': hd.get('hardness'),\n",
    "        'location': hd.get('location'),\n",
    "        'coordX': coords.get('coordX'),\n",
    "        'coordY': coords.get('coordY'),\n",
    "        'index': event.get('index')\n",
    "    }"
   ]
  },
  {
   "cell_type": "code",
   "execution_count": 85,
   "id": "293d1c77-4903-4407-8001-541b39fac9cb",
   "metadata": {
    "tags": []
   },
   "outputs": [],
   "source": [
    "result_rows, about_rows, count_rows = [], [], []\n",
    "matchup_rows, pitch_rows, call_rows, hit_rows = [], [], [], []\n",
    "\n",
    "for play in all_plays:\n",
    "    for event in play['playEvents']:\n",
    "        if event.get('isPitch'):\n",
    "            result_rows.append(extract_result(play, event))\n",
    "            about_rows.append(extract_about(play, event))\n",
    "            count_rows.append(extract_count(play, event))\n",
    "            matchup_rows.append(extract_matchup(play, event))\n",
    "            pitch_rows.append(extract_pitch_detail(event))\n",
    "            call_rows.append(extract_details_call(event))\n",
    "            if 'hitData' in event:\n",
    "                hit_rows.append(extract_hit_data(event))"
   ]
  },
  {
   "cell_type": "code",
   "execution_count": 49,
   "id": "a1d9a1c1-c96d-4a74-8366-8ce7e4e7d177",
   "metadata": {
    "tags": []
   },
   "outputs": [],
   "source": [
    "import pandas as pd\n",
    "\n",
    "df_result = pd.DataFrame(result_rows)\n",
    "df_about = pd.DataFrame(about_rows)\n",
    "df_count = pd.DataFrame(count_rows)\n",
    "df_matchup = pd.DataFrame(matchup_rows)\n",
    "df_pitchv = pd.DataFrame(pitch_rows)\n",
    "df_call = pd.DataFrame(call_rows)\n",
    "df_hit = pd.DataFrame(hit_rows)"
   ]
  },
  {
   "cell_type": "markdown",
   "id": "427b8bc1-5142-4ab5-9a68-4e97f6cd943e",
   "metadata": {
    "tags": []
   },
   "source": [
    "# Save each DataFrame to a CSV file\n",
    "df_result.to_csv('df_result.csv', index=False)\n",
    "df_about.to_csv('df_about.csv', index=False)\n",
    "df_count.to_csv('df_count.csv', index=False)\n",
    "df_matchup.to_csv('df_matchup.csv', index=False)\n",
    "df_pitch.to_csv('df_pitch.csv', index=False)\n",
    "df_call.to_csv('df_call.csv', index=False)\n",
    "df_hit.to_csv('df_hit.csv', index=False)"
   ]
  },
  {
   "cell_type": "code",
   "execution_count": 50,
   "id": "567b6a24-d939-4b5f-87fa-28bb28f21848",
   "metadata": {
    "tags": []
   },
   "outputs": [],
   "source": [
    "# Save each DataFrame to a CSV file\n",
    "df_result.to_csv('df_result.csv', index=False)\n",
    "df_about.to_csv('df_about.csv', index=False)\n",
    "df_count.to_csv('df_count.csv', index=False)\n",
    "df_matchup.to_csv('df_matchup.csv', index=False)\n",
    "df_pitchv.to_csv('df_pitch.csv', index=False)\n",
    "df_call.to_csv('df_call.csv', index=False)\n",
    "df_hit.to_csv('df_hit.csv', index=False)"
   ]
  },
  {
   "cell_type": "code",
   "execution_count": 59,
   "id": "02139676-7faf-474e-aab8-1a67f63bb9a7",
   "metadata": {
    "tags": []
   },
   "outputs": [],
   "source": [
    "def extract_pitch_detail_2(event):\n",
    "    pd = event.get('pitchData', {})\n",
    "    coords = pd.get('coordinates', {})\n",
    "    breaks = pd.get('breaks', {})\n",
    "    pitch_type = event.get('details', {}).get('type', {}).get('description')  # ← Extracted from nested structure\n",
    "\n",
    "    return {\n",
    "        'playId': event['playId'],\n",
    "        'startTime': event['startTime'],\n",
    "        'endTime': event['endTime'],\n",
    "        'isInPlay': event['details'].get('isInPlay'),\n",
    "        'isStrike': event['details'].get('isStrike'),\n",
    "        'isBall': event['details'].get('isBall'),\n",
    "        'code': event['details'].get('code'),\n",
    "        'description': event['details'].get('description'),\n",
    "        'isOut': event['details'].get('isOut'),\n",
    "        'pitchType': pitch_type,  # ← Added here\n",
    "        'startSpeed': pd.get('startSpeed'),\n",
    "        'strikeZoneTop': pd.get('strikeZoneTop'),\n",
    "        'strikeZoneBottom': pd.get('strikeZoneBottom'),\n",
    "        'aY': coords.get('aY'),\n",
    "        'aZ': coords.get('aZ'),\n",
    "        'pfxX': coords.get('pfxX'),\n",
    "        'pfxZ': coords.get('pfxZ'),\n",
    "        'pX': coords.get('pX'),\n",
    "        'pZ': coords.get('pZ'),\n",
    "        'vX0': coords.get('vX0'),\n",
    "        'vY0': coords.get('vY0'),\n",
    "        'vZ0': coords.get('vZ0'),\n",
    "        'x': coords.get('x'),\n",
    "        'y': coords.get('y'),\n",
    "        'x0': coords.get('x0'),\n",
    "        'y0': coords.get('y0'),\n",
    "        'z0': coords.get('z0'),\n",
    "        'aX': coords.get('aX'),\n",
    "        'breakAngle': breaks.get('breakAngle'),\n",
    "        'breakLength': breaks.get('breakLength'),\n",
    "        'breakY': breaks.get('breakY'),\n",
    "        'breakVertical': breaks.get('breakVertical'),\n",
    "        'breakHorizontal': breaks.get('breakHorizontal'),\n",
    "        'spinRate': breaks.get('spinRate'),\n",
    "        'spinDirection': breaks.get('spinDirection'),\n",
    "        'zone': pd.get('zone'),\n",
    "        'pitchNumber': event.get('pitchNumber'),\n",
    "        'isPitch': event.get('isPitch'),\n",
    "        'type': event.get('type')\n",
    "    }"
   ]
  },
  {
   "cell_type": "code",
   "execution_count": 62,
   "id": "5f39c251-630e-4758-95be-f6911815fe11",
   "metadata": {
    "tags": []
   },
   "outputs": [],
   "source": [
    "pitch_rows2 = []\n",
    "\n",
    "for play in all_plays:\n",
    "    for event in play.get('playEvents', []):\n",
    "        if event.get('isPitch'):\n",
    "            pitch_rows2.append(extract_pitch_detail_2(event))\n",
    "\n",
    "df_pitch2 = pd.DataFrame(pitch_rows2)"
   ]
  },
  {
   "cell_type": "code",
   "execution_count": 65,
   "id": "4b018094-2947-447e-83c4-0ca88b1a5cc1",
   "metadata": {
    "tags": []
   },
   "outputs": [],
   "source": [
    "df_pitch2.to_csv('df_pitch2.csv', index=False)"
   ]
  },
  {
   "cell_type": "code",
   "execution_count": 71,
   "id": "96fe0f19-15e1-4d4a-b674-41918875a31a",
   "metadata": {
    "tags": []
   },
   "outputs": [],
   "source": [
    "baserunners_data = []\n",
    "\n",
    "for play in all_plays:\n",
    "    play_id = play.get('playId')\n",
    "    start_time = play.get('about', {}).get('startTime')\n",
    "    end_time = play.get('about', {}).get('endTime')\n",
    "    \n",
    "    # Initialize flags\n",
    "    on_first = False\n",
    "    on_second = False\n",
    "    on_third = False\n",
    "    \n",
    "    # Check runners\n",
    "    for runner in play.get('runners', []):\n",
    "        origin = runner.get('movement', {}).get('originBase')\n",
    "        if origin == '1B':\n",
    "            on_first = True\n",
    "        elif origin == '2B':\n",
    "            on_second = True\n",
    "        elif origin == '3B':\n",
    "            on_third = True\n",
    "    \n",
    "    baserunners_data.append({\n",
    "        'playId': play_id,\n",
    "        'startTime': start_time,\n",
    "        'endTime': end_time,\n",
    "        'on_first': on_first,\n",
    "        'on_second': on_second,\n",
    "        'on_third': on_third\n",
    "    })\n",
    "\n",
    "# Convert to DataFrame\n",
    "baserunners = pd.DataFrame(baserunners_data)"
   ]
  },
  {
   "cell_type": "code",
   "execution_count": null,
   "id": "dc16abf2-a5b2-48d1-98c0-8e9aa0819ca2",
   "metadata": {},
   "outputs": [],
   "source": []
  }
 ],
 "metadata": {
  "environment": {
   "kernel": "conda-base-py",
   "name": "workbench-notebooks.m131",
   "type": "gcloud",
   "uri": "us-docker.pkg.dev/deeplearning-platform-release/gcr.io/workbench-notebooks:m131"
  },
  "kernelspec": {
   "display_name": "Python 3 (ipykernel)",
   "language": "python",
   "name": "conda-base-py"
  },
  "language_info": {
   "codemirror_mode": {
    "name": "ipython",
    "version": 3
   },
   "file_extension": ".py",
   "mimetype": "text/x-python",
   "name": "python",
   "nbconvert_exporter": "python",
   "pygments_lexer": "ipython3",
   "version": "3.10.18"
  }
 },
 "nbformat": 4,
 "nbformat_minor": 5
}
